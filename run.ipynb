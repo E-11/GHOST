{
 "cells": [
  {
   "attachments": {},
   "cell_type": "markdown",
   "metadata": {},
   "source": [
    "### Environment"
   ]
  },
  {
   "cell_type": "code",
   "execution_count": null,
   "metadata": {},
   "outputs": [],
   "source": [
    "!source /opt/conda/bin/activate\n",
    "!conda activate GHOST"
   ]
  },
  {
   "attachments": {},
   "cell_type": "markdown",
   "metadata": {},
   "source": [
    "### Tracking"
   ]
  },
  {
   "cell_type": "code",
   "execution_count": null,
   "metadata": {},
   "outputs": [],
   "source": [
    "!bash scripts/main_17.sh\n"
   ]
  },
  {
   "attachments": {},
   "cell_type": "markdown",
   "metadata": {},
   "source": [
    "- "
   ]
  },
  {
   "cell_type": "code",
   "execution_count": 3,
   "metadata": {},
   "outputs": [
    {
     "name": "stdout",
     "output_type": "stream",
     "text": [
      "[   0  230    0 1080]\n"
     ]
    }
   ],
   "source": [
    "import numpy as np\n",
    "buffer_scale_w = 0.5\n",
    "buffer_scale_h = 0.2\n",
    "bbox_tlwh = [-368.69574, 418.4695,  369.1375, 940.8131]\n",
    "bx = int(bbox_tlwh[0] - bbox_tlwh[2] * buffer_scale_w)\n",
    "by = int(bbox_tlwh[1] - bbox_tlwh[3] * buffer_scale_h)\n",
    "bw = int(bbox_tlwh[2] + bbox_tlwh[2] * buffer_scale_w)\n",
    "bh = int(bbox_tlwh[3] + bbox_tlwh[3] * buffer_scale_h)\n",
    "xyxy = np.asarray([bx, by, bx+bw, by+bh])\n",
    "xyxy[0::2] = xyxy[0::2].clip(0, 1920)\n",
    "xyxy[1::2] = xyxy[1::2].clip(0, 1080)\n",
    "print(xyxy)"
   ]
  }
 ],
 "metadata": {
  "kernelspec": {
   "display_name": "base",
   "language": "python",
   "name": "python3"
  },
  "language_info": {
   "codemirror_mode": {
    "name": "ipython",
    "version": 3
   },
   "file_extension": ".py",
   "mimetype": "text/x-python",
   "name": "python",
   "nbconvert_exporter": "python",
   "pygments_lexer": "ipython3",
   "version": "3.7.16"
  },
  "orig_nbformat": 4
 },
 "nbformat": 4,
 "nbformat_minor": 2
}
